{
 "cells": [
  {
   "cell_type": "markdown",
   "id": "65eb92b2",
   "metadata": {},
   "source": [
    "To get in to a folder in the terminal \n",
    "cd Desktop\n",
    "cd untitledfolder"
   ]
  },
  {
   "cell_type": "markdown",
   "id": "119e7c21",
   "metadata": {},
   "source": [
    "touch ball.py\n",
    "open ball.py\n",
    "\n",
    "en la terminal para separar algo \n",
    "x=0.3234567890 \\\n",
    "- 0.3\n",
    "se continua bien, despues del backslash sin espacios.\n"
   ]
  },
  {
   "cell_type": "code",
   "execution_count": 68,
   "id": "45d17f6d",
   "metadata": {},
   "outputs": [],
   "source": [
    "#ñ"
   ]
  },
  {
   "cell_type": "code",
   "execution_count": 69,
   "id": "86948946",
   "metadata": {},
   "outputs": [],
   "source": [
    "#-*- coding: utf-8 -*-\n",
    "#ñ(ya está optimizado en python3)"
   ]
  },
  {
   "cell_type": "code",
   "execution_count": 70,
   "id": "f1523e2a",
   "metadata": {},
   "outputs": [
    {
     "name": "stdout",
     "output_type": "stream",
     "text": [
      "At t=0.66 s, the height of the ball is 1.16 m.\n"
     ]
    }
   ],
   "source": [
    "v0 = 5\n",
    "g = 9.81\n",
    "t = 0.66\n",
    "y = v0*t -0.5*g*t**2\n",
    "print('At t=%g s, the height of the ball is %.2f m.'% (t,y))\n",
    "# it is assigned in order and .2f mean it has to be written with 2 decimal"
   ]
  },
  {
   "cell_type": "code",
   "execution_count": 71,
   "id": "15d9bcc9",
   "metadata": {},
   "outputs": [
    {
     "name": "stdout",
     "output_type": "stream",
     "text": [
      "At t=0.0006 s, the height of the ball is 1.16338 m.\n"
     ]
    }
   ],
   "source": [
    "t = 0.0006\n",
    "print('At t=%g s, the height of the ball is %.5f m.'% (t,y))"
   ]
  },
  {
   "cell_type": "code",
   "execution_count": 72,
   "id": "d101a42d",
   "metadata": {},
   "outputs": [
    {
     "name": "stdout",
     "output_type": "stream",
     "text": [
      "At t=0.0006, the height of the ball is 1.2 m.\n"
     ]
    }
   ],
   "source": [
    "print('At t=% s, the height of the ball is %.1f m.'% (t,y))"
   ]
  },
  {
   "cell_type": "code",
   "execution_count": 73,
   "id": "0e688ec6",
   "metadata": {},
   "outputs": [
    {
     "name": "stdout",
     "output_type": "stream",
     "text": [
      "At t=6e-05 s, the height of the ball is 1 m.\n"
     ]
    }
   ],
   "source": [
    "t = 0.00006\n",
    "print('At t=%g s, the height of the ball is %.0f m.'% (t,y))"
   ]
  },
  {
   "cell_type": "code",
   "execution_count": 74,
   "id": "4140b6b1",
   "metadata": {},
   "outputs": [
    {
     "name": "stdout",
     "output_type": "stream",
     "text": [
      "At t=6e-05, the height of the ball is 1.1634 m.\n"
     ]
    }
   ],
   "source": [
    "print('At t=% s, the height of the ball is %.4f m.'% (t,y))"
   ]
  },
  {
   "cell_type": "markdown",
   "id": "ff931a1c",
   "metadata": {},
   "source": [
    "%g / %G\n",
    "\n",
    "Similar to %e/%E. Specifies the exponential format only if the exponent is greater than -4"
   ]
  },
  {
   "cell_type": "code",
   "execution_count": 75,
   "id": "b1249617",
   "metadata": {},
   "outputs": [
    {
     "name": "stdout",
     "output_type": "stream",
     "text": [
      "At t=6.000000e-05 s\n"
     ]
    }
   ],
   "source": [
    "print('At t=%e s' % (t))"
   ]
  },
  {
   "cell_type": "code",
   "execution_count": 76,
   "id": "c42e37a8",
   "metadata": {},
   "outputs": [
    {
     "name": "stdout",
     "output_type": "stream",
     "text": [
      "At t=6.000000e-05 s, the height of the ball is 1.163382e+00 m.\n"
     ]
    }
   ],
   "source": [
    "print('At t=%e s, the height of the ball is %e m.'% (t,y))"
   ]
  },
  {
   "cell_type": "code",
   "execution_count": 77,
   "id": "d4a971ea",
   "metadata": {},
   "outputs": [
    {
     "name": "stdout",
     "output_type": "stream",
     "text": [
      "At t=0.000060 s, the height of the ball is 1.1634 m.\n"
     ]
    }
   ],
   "source": [
    "print('At t=%f s, the height of the ball is %.4f m.'% (t,y))"
   ]
  },
  {
   "cell_type": "code",
   "execution_count": 78,
   "id": "f4803106",
   "metadata": {},
   "outputs": [
    {
     "name": "stdout",
     "output_type": "stream",
     "text": [
      "x=321.23457\n"
     ]
    }
   ],
   "source": [
    "x = 321.234567891011213141516\n",
    "print('x=%.5f' % (x))"
   ]
  },
  {
   "cell_type": "code",
   "execution_count": 79,
   "id": "8e9d2913",
   "metadata": {},
   "outputs": [
    {
     "name": "stdout",
     "output_type": "stream",
     "text": [
      "x=3.212346e+02\n"
     ]
    }
   ],
   "source": [
    "print('x=%e' % (x))"
   ]
  },
  {
   "cell_type": "code",
   "execution_count": 80,
   "id": "d1e1f2bb",
   "metadata": {},
   "outputs": [
    {
     "name": "stdout",
     "output_type": "stream",
     "text": [
      " At t=0.000060 s, v0=5.000E+00 m/s is located at 1.16 m.\n"
     ]
    }
   ],
   "source": [
    "print ( \"\"\" At t=%f s, v0=%.3E m/s is located at %.2f m.\"\"\" % (t,v0,y) )\n",
    "#%f six decimals / compact scientifc notation with 3 decimals "
   ]
  },
  {
   "cell_type": "code",
   "execution_count": 81,
   "id": "afa35de2",
   "metadata": {},
   "outputs": [
    {
     "name": "stdout",
     "output_type": "stream",
     "text": [
      "At t=0.000060 s, v0=5.00E+00 m/sis located at 1.163 m.\n"
     ]
    }
   ],
   "source": [
    "#using implicit continuation\n",
    "print('At t=%f s, v0=%.2E m/s'\n",
    "     'is located at %.3f m.' % (t,v0,y) )"
   ]
  },
  {
   "cell_type": "code",
   "execution_count": 82,
   "id": "c34d9b90",
   "metadata": {},
   "outputs": [
    {
     "data": {
      "text/plain": [
       "'At t=6e-05 s, the height 1.163382 m'"
      ]
     },
     "execution_count": 82,
     "metadata": {},
     "output_type": "execute_result"
    }
   ],
   "source": [
    "#format strings syntax, \n",
    "\"At t={} s, the height {} m\" .format(t, y) "
   ]
  },
  {
   "cell_type": "code",
   "execution_count": 83,
   "id": "91591684",
   "metadata": {},
   "outputs": [
    {
     "data": {
      "text/plain": [
       "'At t=6e-05 s, the height 1.16 m'"
      ]
     },
     "execution_count": 83,
     "metadata": {},
     "output_type": "execute_result"
    }
   ],
   "source": [
    "#simple syntax\n",
    "F\"At t={t:g} s, the height {y:.2f} m\""
   ]
  },
  {
   "cell_type": "code",
   "execution_count": 84,
   "id": "1489d582",
   "metadata": {},
   "outputs": [
    {
     "name": "stdout",
     "output_type": "stream",
     "text": [
      "y(t is \n",
      " the position of \n",
      " our ball)\n"
     ]
    }
   ],
   "source": [
    "#separation with \\n in strings\n",
    "print('y(t is \\n the position of \\n our ball)')"
   ]
  },
  {
   "cell_type": "markdown",
   "id": "2b7ca5e9",
   "metadata": {},
   "source": [
    "A code/program segment is a collection of consecutive staments from a program(Many use application).\n",
    "Code snippet is a part of a code.\n",
    "The source code which is the same as the text that constitutes the program(a text listing of commands to be compiled or assembled into an executable computer program).\n",
    "The file that is executed(the file in which the program text is stored), is often called executable or application. The program text may apear in many files, but the executable is the single file that starts the whole program when we run the file.\n",
    "Libraries make life easier and better to not program code snippets. The libraries are composed of modules and packages. Packages are a collection of modules. www.python.org/pypi is useful for that."
   ]
  },
  {
   "cell_type": "code",
   "execution_count": 85,
   "id": "95e8a5d9",
   "metadata": {},
   "outputs": [],
   "source": [
    "#pip install datetime"
   ]
  },
  {
   "cell_type": "code",
   "execution_count": 86,
   "id": "8bc7123d",
   "metadata": {},
   "outputs": [],
   "source": [
    "from datetime import datetime as dati"
   ]
  },
  {
   "cell_type": "code",
   "execution_count": 87,
   "id": "09507fd6",
   "metadata": {},
   "outputs": [
    {
     "data": {
      "text/plain": [
       "['__add__',\n",
       " '__class__',\n",
       " '__delattr__',\n",
       " '__dir__',\n",
       " '__doc__',\n",
       " '__eq__',\n",
       " '__format__',\n",
       " '__ge__',\n",
       " '__getattribute__',\n",
       " '__gt__',\n",
       " '__hash__',\n",
       " '__init__',\n",
       " '__init_subclass__',\n",
       " '__le__',\n",
       " '__lt__',\n",
       " '__ne__',\n",
       " '__new__',\n",
       " '__radd__',\n",
       " '__reduce__',\n",
       " '__reduce_ex__',\n",
       " '__repr__',\n",
       " '__rsub__',\n",
       " '__setattr__',\n",
       " '__sizeof__',\n",
       " '__str__',\n",
       " '__sub__',\n",
       " '__subclasshook__',\n",
       " 'astimezone',\n",
       " 'combine',\n",
       " 'ctime',\n",
       " 'date',\n",
       " 'day',\n",
       " 'dst',\n",
       " 'fold',\n",
       " 'fromisocalendar',\n",
       " 'fromisoformat',\n",
       " 'fromordinal',\n",
       " 'fromtimestamp',\n",
       " 'hour',\n",
       " 'isocalendar',\n",
       " 'isoformat',\n",
       " 'isoweekday',\n",
       " 'max',\n",
       " 'microsecond',\n",
       " 'min',\n",
       " 'minute',\n",
       " 'month',\n",
       " 'now',\n",
       " 'replace',\n",
       " 'resolution',\n",
       " 'second',\n",
       " 'strftime',\n",
       " 'strptime',\n",
       " 'time',\n",
       " 'timestamp',\n",
       " 'timetuple',\n",
       " 'timetz',\n",
       " 'today',\n",
       " 'toordinal',\n",
       " 'tzinfo',\n",
       " 'tzname',\n",
       " 'utcfromtimestamp',\n",
       " 'utcnow',\n",
       " 'utcoffset',\n",
       " 'utctimetuple',\n",
       " 'weekday',\n",
       " 'year']"
      ]
     },
     "execution_count": 87,
     "metadata": {},
     "output_type": "execute_result"
    }
   ],
   "source": [
    "dir(dati)"
   ]
  },
  {
   "cell_type": "code",
   "execution_count": 88,
   "id": "4ea89aab",
   "metadata": {},
   "outputs": [],
   "source": [
    "then = dati(2022, 7, 21, 17, 5, 0)        # Random date in the past\n",
    "now  = dati.now()                         # Now\n",
    "duration = now - then                         # For build-in functions\n",
    "duration_in_s = duration.total_seconds()      # Total number of seconds between dates"
   ]
  },
  {
   "cell_type": "code",
   "execution_count": 89,
   "id": "ca039e3b",
   "metadata": {},
   "outputs": [
    {
     "data": {
      "text/plain": [
       "datetime.timedelta(days=37, seconds=9693, microseconds=973816)"
      ]
     },
     "execution_count": 89,
     "metadata": {},
     "output_type": "execute_result"
    }
   ],
   "source": [
    "duration"
   ]
  },
  {
   "cell_type": "markdown",
   "id": "ee4df24b",
   "metadata": {},
   "source": [
    "The recipe for what the computer is supposed to do in a program is called algorithm. The implementation of an algorithm is the process of writing and testing a program. The testing phase is known as verification. Debugging is the process of locating and removing bugs."
   ]
  },
  {
   "cell_type": "code",
   "execution_count": 90,
   "id": "05148adc",
   "metadata": {},
   "outputs": [],
   "source": [
    "#multiple statements in one line\n",
    "v0 = 3; g = 9.81; t = 0.6"
   ]
  },
  {
   "cell_type": "code",
   "execution_count": 91,
   "id": "dbe135c8",
   "metadata": {},
   "outputs": [
    {
     "name": "stdout",
     "output_type": "stream",
     "text": [
      "3 9.81 0.6\n"
     ]
    }
   ],
   "source": [
    "print(v0,g,t)"
   ]
  },
  {
   "cell_type": "code",
   "execution_count": 92,
   "id": "3a84fab8",
   "metadata": {},
   "outputs": [
    {
     "data": {
      "text/plain": [
       "'the velocity 3'"
      ]
     },
     "execution_count": 92,
     "metadata": {},
     "output_type": "execute_result"
    }
   ],
   "source": [
    "F'the velocity {v0:}'"
   ]
  },
  {
   "cell_type": "code",
   "execution_count": 93,
   "id": "214ae135",
   "metadata": {},
   "outputs": [
    {
     "name": "stdout",
     "output_type": "stream",
     "text": [
      "the velocity 3 is cool\n"
     ]
    }
   ],
   "source": [
    "print('the velocity', v0 ,'is cool')"
   ]
  },
  {
   "cell_type": "code",
   "execution_count": 94,
   "id": "dad81cae",
   "metadata": {},
   "outputs": [
    {
     "name": "stdout",
     "output_type": "stream",
     "text": [
      "10\n",
      "14\n",
      "196\n"
     ]
    }
   ],
   "source": [
    "#this mathematically speaking is wrong but in programming it means that we evaluate rhs and assign to the lhs.\n",
    "y = 10\n",
    "print(y)\n",
    "y = y + 4\n",
    "print(y)\n",
    "y = y*y\n",
    "print(y)"
   ]
  },
  {
   "cell_type": "markdown",
   "id": "7abf4dc6",
   "metadata": {},
   "source": [
    "A computer program must have correct syntax, the program must follow strict rules. In python 2 programs specifies one blank around = + - and no blanks around * / **(blank = whitespace)."
   ]
  },
  {
   "cell_type": "code",
   "execution_count": 95,
   "id": "22ff3362",
   "metadata": {},
   "outputs": [
    {
     "name": "stdout",
     "output_type": "stream",
     "text": [
      "Lore\tTatan\n"
     ]
    }
   ],
   "source": [
    "print('Lore\\tTatan') #a blank"
   ]
  },
  {
   "cell_type": "code",
   "execution_count": 96,
   "id": "6eea6c5b",
   "metadata": {},
   "outputs": [
    {
     "name": "stdout",
     "output_type": "stream",
     "text": [
      "Lore\n",
      "Tatan\n"
     ]
    }
   ],
   "source": [
    "print('Lore\\nTatan') #newline character"
   ]
  },
  {
   "cell_type": "code",
   "execution_count": 97,
   "id": "10302a03",
   "metadata": {},
   "outputs": [
    {
     "name": "stdout",
     "output_type": "stream",
     "text": [
      "Lore'Tatan\n"
     ]
    }
   ],
   "source": [
    "print('Lore\\'Tatan')"
   ]
  },
  {
   "cell_type": "code",
   "execution_count": 98,
   "id": "3a026890",
   "metadata": {},
   "outputs": [
    {
     "name": "stdout",
     "output_type": "stream",
     "text": [
      "Lore\"Tatan\n"
     ]
    }
   ],
   "source": [
    "print('Lore\\\"Tatan')"
   ]
  },
  {
   "cell_type": "markdown",
   "id": "61307165",
   "metadata": {},
   "source": [
    "An operating system like Mac Os X. Unix are Linux or Mac OS X. The command ls is for viewing the file contents of a folder that you can run in the terminal.\n"
   ]
  },
  {
   "cell_type": "code",
   "execution_count": 99,
   "id": "73bb912f",
   "metadata": {},
   "outputs": [
    {
     "name": "stdout",
     "output_type": "stream",
     "text": [
      "21 is the temperature in Celsius\n",
      "<class 'float'>\n",
      "69.80000000000001\n",
      "F=6.980000e+01\n"
     ]
    }
   ],
   "source": [
    "# I'm going to write a program that can compute F when C is known in a Celsius-Farenhit Conversion.\n",
    "C = input(\"Enter the temperature in Celsius: \")\n",
    "print(C, 'is the temperature in Celsius')\n",
    "C = float(C)\n",
    "print(type(C))\n",
    "F = float((9/5))*C + 32\n",
    "print(F)\n",
    "print('F=%e' % (F))"
   ]
  },
  {
   "cell_type": "code",
   "execution_count": 100,
   "id": "83f07796",
   "metadata": {},
   "outputs": [
    {
     "name": "stdout",
     "output_type": "stream",
     "text": [
      "<class 'float'>\n",
      "1.8\n",
      "<class 'int'>\n",
      "1\n",
      "2\n"
     ]
    }
   ],
   "source": [
    "x = 9/5\n",
    "print(type(9/5))\n",
    "print(x)\n",
    "x = int(x)\n",
    "print(type(x))\n",
    "print(x)\n",
    "#it is different when we have an integer because 1*5 =< 9 y 2*5 no es =< 9. El resultado es 1.\n",
    "y = int(16/6)\n",
    "print(y)\n",
    "#because 6*1 =<16 y 6*2 =< 16 pero no es 6*3=<16, the result is 2 because is truncated.\n",
    "#IN PYTHON 3 a/b is float, even if both of the operands are integers, and in complex division if one operand is a complex number the result is float."
   ]
  },
  {
   "cell_type": "code",
   "execution_count": 101,
   "id": "32f45dc1",
   "metadata": {},
   "outputs": [
    {
     "name": "stdout",
     "output_type": "stream",
     "text": [
      "0.041706372498337634\n",
      "At the time t1=4.170637e-02 the height is yc=2.000000e-01 \n",
      "0.9776616193467182\n",
      "At the time t2=9.776616e-01 the height is yc=2.000000e-01 \n"
     ]
    }
   ],
   "source": [
    "#Program to calculate the time to reach yc in a vertical motion.\n",
    "v0 = 5\n",
    "g = 9.81\n",
    "yc = 0.2\n",
    "import math as mt\n",
    "t1 = (v0 - mt.sqrt(v0**2 - 2*g*yc))/g\n",
    "print(t1)\n",
    "print('At the time t1=%e the height is yc=%e ' % (t1, yc))\n",
    "t2 = (v0 + mt.sqrt(v0**2 - 2*g*yc))/g\n",
    "print(t2)\n",
    "print('At the time t2=%e the height is yc=%e ' % (t2, yc))"
   ]
  },
  {
   "cell_type": "code",
   "execution_count": 103,
   "id": "5d5a41fd",
   "metadata": {},
   "outputs": [
    {
     "name": "stdout",
     "output_type": "stream",
     "text": [
      "1.7320508075688772\n"
     ]
    }
   ],
   "source": [
    "# To import an specific function in order to skip the module name prefix :\n",
    "from math import sqrt\n",
    "x = sqrt(3)\n",
    "print(x)\n",
    "#more than one function can be imported\n",
    "from math import sqrt, exp, log, sin\n",
    "#sometimes one just writes\n",
    "from math import * \n",
    "#to import all the functions in the math module but is not as reliable as the conventional way"
   ]
  },
  {
   "cell_type": "code",
   "execution_count": 111,
   "id": "aab28c54",
   "metadata": {},
   "outputs": [
    {
     "name": "stdout",
     "output_type": "stream",
     "text": [
      "1.2246467991473532e-16\n",
      "v=0.00\n",
      "1.0\n"
     ]
    }
   ],
   "source": [
    "#imported modules can be given new names in the import statement\n",
    "import math as m\n",
    "v = (m.sin(m.pi)) #we calculate the sin of pi\n",
    "print(v)\n",
    "print('v=%.2f' % (v)) #we express it with two decimals\n",
    "from math import log as ln, e\n",
    "v = ln(e)\n",
    "print(v)"
   ]
  },
  {
   "cell_type": "code",
   "execution_count": 113,
   "id": "be3817bd",
   "metadata": {},
   "outputs": [
    {
     "name": "stdout",
     "output_type": "stream",
     "text": [
      "1.7320508075688772\n",
      "0.39083256273341366\n"
     ]
    }
   ],
   "source": [
    "print(x)\n",
    "from math import sin as s, cos as c, log as ln\n",
    "v = s(x)*c(x)+ln(x)\n",
    "print(v)"
   ]
  },
  {
   "cell_type": "code",
   "execution_count": 124,
   "id": "7d07bee1",
   "metadata": {},
   "outputs": [
    {
     "name": "stdout",
     "output_type": "stream",
     "text": [
      "267.74489404101644\n",
      "267.74489404101644\n",
      "267.7448940410163\n",
      "267.74489404101644 267.74489404101644 267.7448940410163\n",
      "267.74489404101644 267.74489404101644 267.7448940410163\n",
      "267.7448940410164369 267.7448940410164369 267.7448940410163232\n",
      "0.0 1.1368683772161603e-13\n",
      "We have this difference because real numbers need in general an infinite number of decimals to be exactly represented, however the \n",
      "computer truncates the sequence of decimals because the storage is finite\n"
     ]
    }
   ],
   "source": [
    "#The sinh can be evaluated in three ways\n",
    "#1) by calling math.sinh()\n",
    "from math import sinh, pi\n",
    "x = 2*pi\n",
    "r1 = sinh(x)\n",
    "print(r1)\n",
    "#2)by computing the rhs of the formula of sinh with math.exp\n",
    "from math import exp\n",
    "r2 = 0.5*(exp(x) - exp(-x))\n",
    "print(r2)\n",
    "#3) with the aid of math.e**+-x\n",
    "r3 = 0.5*(e**x - e**(-x))\n",
    "print(r3)\n",
    "\n",
    "\n",
    "\n",
    "print(r1, r2, r3)\n",
    "print(repr(r1), repr(r2), repr(r3))      # complete representation\n",
    "print('%.16f %.16f %.16f' % (r1,r2,r3))  # complete representation\n",
    "#differences with the differents methods\n",
    "diff1 = r1 - r2\n",
    "diff2 = r2 - r3\n",
    "print(diff1, diff2)\n",
    "print('We have this difference because real numbers need in general an infinite number of decimals to be exactly represented, however the \\ncomputer truncates the sequence of decimals because the storage is finite')\n",
    "#it is quite standard to keep only 17 digits in a float"
   ]
  },
  {
   "cell_type": "markdown",
   "id": "ef4d7dd8",
   "metadata": {},
   "source": [
    "Let's remember that in a terminal we can also compute objects and obtain values. It is quite interactive to use the up arrow key to recover previous statements and it is possible to edit them."
   ]
  },
  {
   "cell_type": "code",
   "execution_count": 131,
   "id": "247f1489",
   "metadata": {},
   "outputs": [
    {
     "name": "stdout",
     "output_type": "stream",
     "text": [
      "21.0\n",
      "21\n"
     ]
    }
   ],
   "source": [
    "r = float(round(20.9))\n",
    "print(r)\n",
    "w = int(round(20.9))\n",
    "print(w)"
   ]
  },
  {
   "cell_type": "markdown",
   "id": "a98465f3",
   "metadata": {},
   "source": [
    "Ipython is an interactive shell the default prompt is not >>> but In[x]. x would be the number of present input command. IT IS REQUIRED TO CHANGE TO THE SPECIFIC FOLDER WITH CD.\n",
    "ipython\n",
    "In [1] : run someprogram.py\n",
    "1.2345\n",
    "IT IS RECOMMENDED TO RUN ALL THE PROGRAMS THROUGH THE PYTHON SHELL, ESPECIALLY WHEN SOMETHING GOES WRONG.\n",
    "In ipython we use run and then the program, but in a terminal window is like \"python somefile.py\"\n"
   ]
  },
  {
   "cell_type": "code",
   "execution_count": null,
   "id": "9829918b",
   "metadata": {},
   "outputs": [],
   "source": []
  },
  {
   "cell_type": "code",
   "execution_count": null,
   "id": "a6d94dae",
   "metadata": {},
   "outputs": [],
   "source": []
  },
  {
   "cell_type": "code",
   "execution_count": null,
   "id": "d96b8ed2",
   "metadata": {},
   "outputs": [],
   "source": []
  },
  {
   "cell_type": "code",
   "execution_count": null,
   "id": "a3af9986",
   "metadata": {},
   "outputs": [],
   "source": []
  },
  {
   "cell_type": "code",
   "execution_count": null,
   "id": "083795a5",
   "metadata": {},
   "outputs": [],
   "source": []
  },
  {
   "cell_type": "code",
   "execution_count": null,
   "id": "2f3a2d0e",
   "metadata": {},
   "outputs": [],
   "source": []
  },
  {
   "cell_type": "code",
   "execution_count": null,
   "id": "eb236439",
   "metadata": {},
   "outputs": [],
   "source": []
  },
  {
   "cell_type": "code",
   "execution_count": null,
   "id": "fa847018",
   "metadata": {},
   "outputs": [],
   "source": []
  },
  {
   "cell_type": "code",
   "execution_count": null,
   "id": "42721365",
   "metadata": {},
   "outputs": [],
   "source": []
  },
  {
   "cell_type": "code",
   "execution_count": null,
   "id": "fd48e752",
   "metadata": {},
   "outputs": [],
   "source": []
  },
  {
   "cell_type": "code",
   "execution_count": null,
   "id": "27f9000e",
   "metadata": {},
   "outputs": [],
   "source": []
  },
  {
   "cell_type": "code",
   "execution_count": null,
   "id": "13c0a232",
   "metadata": {},
   "outputs": [],
   "source": []
  },
  {
   "cell_type": "code",
   "execution_count": null,
   "id": "02fc463e",
   "metadata": {},
   "outputs": [],
   "source": []
  },
  {
   "cell_type": "code",
   "execution_count": null,
   "id": "c7ef6d45",
   "metadata": {},
   "outputs": [],
   "source": []
  },
  {
   "cell_type": "code",
   "execution_count": null,
   "id": "7ac8ba1d",
   "metadata": {},
   "outputs": [],
   "source": []
  },
  {
   "cell_type": "code",
   "execution_count": null,
   "id": "0ef4b68d",
   "metadata": {},
   "outputs": [],
   "source": []
  },
  {
   "cell_type": "code",
   "execution_count": null,
   "id": "f1b99982",
   "metadata": {},
   "outputs": [],
   "source": []
  },
  {
   "cell_type": "code",
   "execution_count": null,
   "id": "bd3e9bdf",
   "metadata": {},
   "outputs": [],
   "source": []
  }
 ],
 "metadata": {
  "kernelspec": {
   "display_name": "Python 3.10.6 64-bit",
   "language": "python",
   "name": "python3"
  },
  "language_info": {
   "codemirror_mode": {
    "name": "ipython",
    "version": 3
   },
   "file_extension": ".py",
   "mimetype": "text/x-python",
   "name": "python",
   "nbconvert_exporter": "python",
   "pygments_lexer": "ipython3",
   "version": "3.10.6"
  },
  "vscode": {
   "interpreter": {
    "hash": "aee8b7b246df8f9039afb4144a1f6fd8d2ca17a180786b69acc140d282b71a49"
   }
  }
 },
 "nbformat": 4,
 "nbformat_minor": 5
}
